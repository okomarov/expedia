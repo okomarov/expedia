{
 "cells": [
  {
   "cell_type": "markdown",
   "metadata": {},
   "source": [
    "# Expedia Case Study - Oleg Komarov\n",
    "Contact at: oleg.komarov@hotmail.it\n",
    "\n",
    "### Overview\n",
    "Understanding consumer hotel preferences and hotel pricing from a sample of hotel searches and bookings.\n",
    "\n",
    "The following analysis mostly concentrates on consumer preferences, although still brushing the surface of the problem, and confirms a few hotel pricing stereotypes. It starts with some data due-diligence and visualization, identifies a key issue and addresses the determinants of a successful booking. It proposes some interpretations of the provided hotel features and concludes with an analysis of hotel pricing stereotypes. "
   ]
  },
  {
   "cell_type": "code",
   "execution_count": 1,
   "metadata": {},
   "outputs": [
    {
     "data": {
      "text/html": [
       "<style>.container { width:90% !important; }</style>"
      ],
      "text/plain": [
       "<IPython.core.display.HTML object>"
      ]
     },
     "metadata": {},
     "output_type": "display_data"
    },
    {
     "data": {
      "text/html": [
       "<style> code {background-color : WhiteSmoke !important;} </style>"
      ],
      "text/plain": [
       "<IPython.core.display.HTML object>"
      ]
     },
     "metadata": {},
     "output_type": "display_data"
    },
    {
     "name": "stderr",
     "output_type": "stream",
     "text": [
      "/Users/okomarov/anaconda/lib/python3.6/site-packages/statsmodels/compat/pandas.py:56: FutureWarning: The pandas.core.datetools module is deprecated and will be removed in a future version. Please use the pandas.tseries module instead.\n",
      "  from pandas.core import datetools\n"
     ]
    },
    {
     "name": "stdout",
     "output_type": "stream",
     "text": [
      "Using matplotlib backend: MacOSX\n",
      "Populating the interactive namespace from numpy and matplotlib\n"
     ]
    }
   ],
   "source": [
    "# Notebook tweaks\n",
    "from IPython.core.display import display, HTML\n",
    "display(HTML(\"<style>.container { width:90% !important; }</style>\"))\n",
    "display(HTML(\"<style> code {background-color : WhiteSmoke !important;} </style>\"))\n",
    "from IPython.core.interactiveshell import InteractiveShell\n",
    "InteractiveShell.ast_node_interactivity = \"all\"\n",
    "\n",
    "# Imports (ignore warnings)\n",
    "import pandas as pd\n",
    "import statsmodels.api as sm\n",
    "from sklearn import model_selection, linear_model, metrics\n",
    "%pylab --no-import-all\n",
    "%matplotlib inline"
   ]
  },
  {
   "cell_type": "markdown",
   "metadata": {},
   "source": [
    "### Import data and drop duplicates\n",
    "In the next cell I import the data and drop about 12% of **duplicated records**. \n",
    "\n",
    "The search does not have an exact timestamp and, hence, it is safer to assume the duplicated records are **redundant**. Alternatively, assuming the searches were performed in the order they appear, duplication might indicate the customer is going back to an offer he liked. This information could provide insight about consumer preferences but this type of analysis is outside the scope of this notebook."
   ]
  },
  {
   "cell_type": "code",
   "execution_count": 2,
   "metadata": {
    "scrolled": true
   },
   "outputs": [
    {
     "data": {
      "text/plain": [
       "(46647, 15)"
      ]
     },
     "execution_count": 2,
     "metadata": {},
     "output_type": "execute_result"
    },
    {
     "data": {
      "text/plain": [
       "(40925, 15)"
      ]
     },
     "execution_count": 2,
     "metadata": {},
     "output_type": "execute_result"
    },
    {
     "data": {
      "text/html": [
       "<div>\n",
       "<style>\n",
       "    .dataframe thead tr:only-child th {\n",
       "        text-align: right;\n",
       "    }\n",
       "\n",
       "    .dataframe thead th {\n",
       "        text-align: left;\n",
       "    }\n",
       "\n",
       "    .dataframe tbody tr th {\n",
       "        vertical-align: top;\n",
       "    }\n",
       "</style>\n",
       "<table border=\"1\" class=\"dataframe\">\n",
       "  <thead>\n",
       "    <tr style=\"text-align: right;\">\n",
       "      <th></th>\n",
       "      <th>search_date</th>\n",
       "      <th>arrival</th>\n",
       "      <th>departure</th>\n",
       "      <th>num_adults</th>\n",
       "      <th>num_children</th>\n",
       "      <th>search_id</th>\n",
       "      <th>hotel_id</th>\n",
       "      <th>hotel_price</th>\n",
       "      <th>is_promo</th>\n",
       "      <th>hotel_feature_1</th>\n",
       "      <th>hotel_feature_2</th>\n",
       "      <th>hotel_feature_3</th>\n",
       "      <th>hotel_feature_4</th>\n",
       "      <th>hotel_feature_5</th>\n",
       "      <th>booked</th>\n",
       "    </tr>\n",
       "  </thead>\n",
       "  <tbody>\n",
       "    <tr>\n",
       "      <th>0</th>\n",
       "      <td>25</td>\n",
       "      <td>457</td>\n",
       "      <td>471</td>\n",
       "      <td>3</td>\n",
       "      <td>2</td>\n",
       "      <td>0</td>\n",
       "      <td>517</td>\n",
       "      <td>1724.38</td>\n",
       "      <td>0</td>\n",
       "      <td>64.490309</td>\n",
       "      <td>85.0</td>\n",
       "      <td>7</td>\n",
       "      <td>0</td>\n",
       "      <td>0</td>\n",
       "      <td>0</td>\n",
       "    </tr>\n",
       "    <tr>\n",
       "      <th>2</th>\n",
       "      <td>25</td>\n",
       "      <td>457</td>\n",
       "      <td>471</td>\n",
       "      <td>3</td>\n",
       "      <td>2</td>\n",
       "      <td>0</td>\n",
       "      <td>29771</td>\n",
       "      <td>1905.54</td>\n",
       "      <td>1</td>\n",
       "      <td>25.826343</td>\n",
       "      <td>52.0</td>\n",
       "      <td>13</td>\n",
       "      <td>1</td>\n",
       "      <td>1</td>\n",
       "      <td>0</td>\n",
       "    </tr>\n",
       "    <tr>\n",
       "      <th>3</th>\n",
       "      <td>25</td>\n",
       "      <td>458</td>\n",
       "      <td>463</td>\n",
       "      <td>2</td>\n",
       "      <td>0</td>\n",
       "      <td>1</td>\n",
       "      <td>517</td>\n",
       "      <td>2077.95</td>\n",
       "      <td>0</td>\n",
       "      <td>64.490309</td>\n",
       "      <td>85.0</td>\n",
       "      <td>9</td>\n",
       "      <td>0</td>\n",
       "      <td>0</td>\n",
       "      <td>0</td>\n",
       "    </tr>\n",
       "    <tr>\n",
       "      <th>4</th>\n",
       "      <td>25</td>\n",
       "      <td>458</td>\n",
       "      <td>463</td>\n",
       "      <td>2</td>\n",
       "      <td>0</td>\n",
       "      <td>1</td>\n",
       "      <td>40744</td>\n",
       "      <td>6822.10</td>\n",
       "      <td>0</td>\n",
       "      <td>24.959968</td>\n",
       "      <td>52.0</td>\n",
       "      <td>11</td>\n",
       "      <td>1</td>\n",
       "      <td>2</td>\n",
       "      <td>0</td>\n",
       "    </tr>\n",
       "    <tr>\n",
       "      <th>5</th>\n",
       "      <td>25</td>\n",
       "      <td>458</td>\n",
       "      <td>463</td>\n",
       "      <td>2</td>\n",
       "      <td>0</td>\n",
       "      <td>1</td>\n",
       "      <td>19030</td>\n",
       "      <td>2906.65</td>\n",
       "      <td>0</td>\n",
       "      <td>59.219929</td>\n",
       "      <td>55.0</td>\n",
       "      <td>5</td>\n",
       "      <td>0</td>\n",
       "      <td>1</td>\n",
       "      <td>0</td>\n",
       "    </tr>\n",
       "  </tbody>\n",
       "</table>\n",
       "</div>"
      ],
      "text/plain": [
       "   search_date  arrival  departure  num_adults  num_children  search_id  \\\n",
       "0           25      457        471           3             2          0   \n",
       "2           25      457        471           3             2          0   \n",
       "3           25      458        463           2             0          1   \n",
       "4           25      458        463           2             0          1   \n",
       "5           25      458        463           2             0          1   \n",
       "\n",
       "   hotel_id  hotel_price  is_promo  hotel_feature_1  hotel_feature_2  \\\n",
       "0       517      1724.38         0        64.490309             85.0   \n",
       "2     29771      1905.54         1        25.826343             52.0   \n",
       "3       517      2077.95         0        64.490309             85.0   \n",
       "4     40744      6822.10         0        24.959968             52.0   \n",
       "5     19030      2906.65         0        59.219929             55.0   \n",
       "\n",
       "   hotel_feature_3  hotel_feature_4  hotel_feature_5  booked  \n",
       "0                7                0                0       0  \n",
       "2               13                1                1       0  \n",
       "3                9                0                0       0  \n",
       "4               11                1                2       0  \n",
       "5                5                0                1       0  "
      ]
     },
     "execution_count": 2,
     "metadata": {},
     "output_type": "execute_result"
    }
   ],
   "source": [
    "data = pd.read_csv('case_study_data.csv')\n",
    "data.shape\n",
    "data = data.drop_duplicates()\n",
    "data.shape\n",
    "data.head()"
   ]
  },
  {
   "cell_type": "markdown",
   "metadata": {},
   "source": [
    "### Data cleaning\n",
    "The next cell shows preliminary statistics. The dataset appears **clean**: there are no outliers nor anomalous values except for about 1000 records with `NaN`s, mostly coming from `hotel_feature_1`, which I drop."
   ]
  },
  {
   "cell_type": "code",
   "execution_count": 3,
   "metadata": {},
   "outputs": [
    {
     "data": {
      "text/html": [
       "<div>\n",
       "<style>\n",
       "    .dataframe thead tr:only-child th {\n",
       "        text-align: right;\n",
       "    }\n",
       "\n",
       "    .dataframe thead th {\n",
       "        text-align: left;\n",
       "    }\n",
       "\n",
       "    .dataframe tbody tr th {\n",
       "        vertical-align: top;\n",
       "    }\n",
       "</style>\n",
       "<table border=\"1\" class=\"dataframe\">\n",
       "  <thead>\n",
       "    <tr style=\"text-align: right;\">\n",
       "      <th></th>\n",
       "      <th>search_date</th>\n",
       "      <th>arrival</th>\n",
       "      <th>departure</th>\n",
       "      <th>num_adults</th>\n",
       "      <th>num_children</th>\n",
       "      <th>search_id</th>\n",
       "      <th>hotel_id</th>\n",
       "      <th>hotel_price</th>\n",
       "      <th>is_promo</th>\n",
       "      <th>hotel_feature_1</th>\n",
       "      <th>hotel_feature_2</th>\n",
       "      <th>hotel_feature_3</th>\n",
       "      <th>hotel_feature_4</th>\n",
       "      <th>hotel_feature_5</th>\n",
       "      <th>booked</th>\n",
       "    </tr>\n",
       "  </thead>\n",
       "  <tbody>\n",
       "    <tr>\n",
       "      <th>min</th>\n",
       "      <td>0.0</td>\n",
       "      <td>0.0</td>\n",
       "      <td>1.0</td>\n",
       "      <td>1.0</td>\n",
       "      <td>0.0</td>\n",
       "      <td>0.0</td>\n",
       "      <td>1.0</td>\n",
       "      <td>30.37</td>\n",
       "      <td>0.0</td>\n",
       "      <td>2.000000</td>\n",
       "      <td>0.0</td>\n",
       "      <td>1.0</td>\n",
       "      <td>0.0</td>\n",
       "      <td>0.0</td>\n",
       "      <td>0.0</td>\n",
       "    </tr>\n",
       "    <tr>\n",
       "      <th>50%</th>\n",
       "      <td>12.0</td>\n",
       "      <td>110.0</td>\n",
       "      <td>118.0</td>\n",
       "      <td>2.0</td>\n",
       "      <td>1.0</td>\n",
       "      <td>4472.0</td>\n",
       "      <td>23309.0</td>\n",
       "      <td>1321.01</td>\n",
       "      <td>0.0</td>\n",
       "      <td>67.712628</td>\n",
       "      <td>52.0</td>\n",
       "      <td>46.0</td>\n",
       "      <td>4.0</td>\n",
       "      <td>1.0</td>\n",
       "      <td>0.0</td>\n",
       "    </tr>\n",
       "    <tr>\n",
       "      <th>max</th>\n",
       "      <td>25.0</td>\n",
       "      <td>493.0</td>\n",
       "      <td>501.0</td>\n",
       "      <td>8.0</td>\n",
       "      <td>6.0</td>\n",
       "      <td>16015.0</td>\n",
       "      <td>46647.0</td>\n",
       "      <td>175454.41</td>\n",
       "      <td>1.0</td>\n",
       "      <td>143.777606</td>\n",
       "      <td>100.0</td>\n",
       "      <td>287.0</td>\n",
       "      <td>36.0</td>\n",
       "      <td>7.0</td>\n",
       "      <td>1.0</td>\n",
       "    </tr>\n",
       "    <tr>\n",
       "      <th>is_whole</th>\n",
       "      <td>1.0</td>\n",
       "      <td>1.0</td>\n",
       "      <td>1.0</td>\n",
       "      <td>1.0</td>\n",
       "      <td>1.0</td>\n",
       "      <td>1.0</td>\n",
       "      <td>1.0</td>\n",
       "      <td>0.00</td>\n",
       "      <td>1.0</td>\n",
       "      <td>0.000000</td>\n",
       "      <td>1.0</td>\n",
       "      <td>1.0</td>\n",
       "      <td>1.0</td>\n",
       "      <td>1.0</td>\n",
       "      <td>1.0</td>\n",
       "    </tr>\n",
       "    <tr>\n",
       "      <th>unique</th>\n",
       "      <td>23.0</td>\n",
       "      <td>436.0</td>\n",
       "      <td>452.0</td>\n",
       "      <td>8.0</td>\n",
       "      <td>7.0</td>\n",
       "      <td>16016.0</td>\n",
       "      <td>355.0</td>\n",
       "      <td>31039.00</td>\n",
       "      <td>2.0</td>\n",
       "      <td>244.000000</td>\n",
       "      <td>38.0</td>\n",
       "      <td>260.0</td>\n",
       "      <td>37.0</td>\n",
       "      <td>8.0</td>\n",
       "      <td>2.0</td>\n",
       "    </tr>\n",
       "    <tr>\n",
       "      <th>countna</th>\n",
       "      <td>0.0</td>\n",
       "      <td>0.0</td>\n",
       "      <td>0.0</td>\n",
       "      <td>0.0</td>\n",
       "      <td>0.0</td>\n",
       "      <td>0.0</td>\n",
       "      <td>0.0</td>\n",
       "      <td>0.00</td>\n",
       "      <td>0.0</td>\n",
       "      <td>1064.000000</td>\n",
       "      <td>297.0</td>\n",
       "      <td>0.0</td>\n",
       "      <td>0.0</td>\n",
       "      <td>0.0</td>\n",
       "      <td>0.0</td>\n",
       "    </tr>\n",
       "  </tbody>\n",
       "</table>\n",
       "</div>"
      ],
      "text/plain": [
       "          search_date  arrival  departure  num_adults  num_children  \\\n",
       "min               0.0      0.0        1.0         1.0           0.0   \n",
       "50%              12.0    110.0      118.0         2.0           1.0   \n",
       "max              25.0    493.0      501.0         8.0           6.0   \n",
       "is_whole          1.0      1.0        1.0         1.0           1.0   \n",
       "unique           23.0    436.0      452.0         8.0           7.0   \n",
       "countna           0.0      0.0        0.0         0.0           0.0   \n",
       "\n",
       "          search_id  hotel_id  hotel_price  is_promo  hotel_feature_1  \\\n",
       "min             0.0       1.0        30.37       0.0         2.000000   \n",
       "50%          4472.0   23309.0      1321.01       0.0        67.712628   \n",
       "max         16015.0   46647.0    175454.41       1.0       143.777606   \n",
       "is_whole        1.0       1.0         0.00       1.0         0.000000   \n",
       "unique      16016.0     355.0     31039.00       2.0       244.000000   \n",
       "countna         0.0       0.0         0.00       0.0      1064.000000   \n",
       "\n",
       "          hotel_feature_2  hotel_feature_3  hotel_feature_4  hotel_feature_5  \\\n",
       "min                   0.0              1.0              0.0              0.0   \n",
       "50%                  52.0             46.0              4.0              1.0   \n",
       "max                 100.0            287.0             36.0              7.0   \n",
       "is_whole              1.0              1.0              1.0              1.0   \n",
       "unique               38.0            260.0             37.0              8.0   \n",
       "countna             297.0              0.0              0.0              0.0   \n",
       "\n",
       "          booked  \n",
       "min          0.0  \n",
       "50%          0.0  \n",
       "max          1.0  \n",
       "is_whole     1.0  \n",
       "unique       2.0  \n",
       "countna      0.0  "
      ]
     },
     "execution_count": 3,
     "metadata": {},
     "output_type": "execute_result"
    },
    {
     "data": {
      "text/plain": [
       "(39564, 15)"
      ]
     },
     "execution_count": 3,
     "metadata": {},
     "output_type": "execute_result"
    }
   ],
   "source": [
    "desc = data.describe().loc[['min','50%','max'],:]\n",
    "desc = desc.append(((data % 1 == 0) | data.isnull()).all().rename('is_whole'))\n",
    "desc = desc.append(data.nunique().rename('unique'));\n",
    "desc.append(data.isnull().sum().rename('countna'))\n",
    "\n",
    "data.dropna(inplace=True);\n",
    "data.shape"
   ]
  },
  {
   "cell_type": "markdown",
   "metadata": {},
   "source": [
    "As expected, `num_adults` or `num_children` are whole numbers within 0 and 8, a legit range. Also, the dummy variables `is_promo` and `booked` have two unique values, i.e. 0 and 1. Even the `hotel_price` which has a max at about \\$175,454, a seemingly high value, is suggestive of a heavily leptokurtic distribution which is consistent with the shape of the income distribution. In other words, as there are very few rich individuals, so are expensive bookings. In support of this claim, the median of the `hotel_price` is $1,321, i.e. 50% of the searches got quoted at a lower price."
   ]
  },
  {
   "cell_type": "markdown",
   "metadata": {},
   "source": [
    "### Visualizing the data\n",
    "The next cell plots the empirical distribution of all columns of the dataset. "
   ]
  },
  {
   "cell_type": "code",
   "execution_count": 4,
   "metadata": {},
   "outputs": [
    {
     "data": {
      "image/png": "[encoded data removed]",
      "text/plain": [
       "<matplotlib.figure.Figure at 0x10d463f60>"
      ]
     },
     "metadata": {},
     "output_type": "display_data"
    }
   ],
   "source": [
    "data.hist(bins=15,layout=(3,5), figsize=(12,8));"
   ]
  },
  {
   "cell_type": "markdown",
   "metadata": {},
   "source": [
    "The graphs confirm the previous statement about the cleanliness of the dataset and offer additional insights. For instance, the distribution of `hotel_price` validates my previous statements (leptokurtic distribution). The dummy variable `is_promo` shows correctly only two values and presents almost a perfect 50-50 split. On a different note, the `booked` variable tells us that only a mere 0.71% of the searches ends up into a booking, which is likely to be a fundamental issue in the web hotel booking business. Hence I will concentrate on characterizing the following issue (a full answer is beyond the scope of this notebook):\n",
    "\n",
    "<div class=\"alert alert-success\">\n",
    "How to maximize the booking conversion rate? \n",
    "</div>\n",
    "\n",
    "Moreover, the histograms help us guess what the **hotel characteristics** (columns starting with `hotel_feature`) might be. Based on the ranges, the second feature might be the **recommendation score** given by previous customers while the third feature might be the number of **verified reviews**. The fifth feature could be the **property type** or the number of stars (including unrated and B&B solutions). Although it is interesting from a personal perspective to uncover what the features really are, e.g. with a conditional distribution of feature 5 on the price such that if it is monotonic, then it is most likely the number of stars, this type of analysis is not of interest (as data providers, you know what they are).  "
   ]
  },
  {
   "cell_type": "markdown",
   "metadata": {},
   "source": [
    "### In-sample logistic regression\n",
    "Before proceeding with the analysis of the **determinants and how they affect a booking decision** I do some additional data manipulation:\n",
    "- I introduce the variable `hotels` which is the number of unique hotels per search id. Intuitively, `hotels` might proxy for the **determination** of a customer to book, since it requires more effort to look at multiple offerings, as opposed to a single query for a quick budget estimation.\n",
    "- I use the logarithm of `hotel_price` to normalize its distribution."
   ]
  },
  {
   "cell_type": "code",
   "execution_count": 5,
   "metadata": {
    "collapsed": true
   },
   "outputs": [],
   "source": [
    "data = data.join(data.groupby(data.search_id)['hotel_id'].nunique().rename('hotels'), on='search_id')\n",
    "data['hotel_price'] = data['hotel_price'].transform(np.log)"
   ]
  },
  {
   "cell_type": "markdown",
   "metadata": {},
   "source": [
    "To analyze what determines a booking I use the following logit model:\n",
    "\n",
    "$$ \\textrm{logit}(booked) = \\beta_0 + \\sum^5_{i=1} \\beta_i\\,feature\\_i + \\beta_6\\,\\textrm{log}(price) + \\beta_7\\,ispromo + \\beta_8\\,adults + \\beta_9\\,children + \\beta_{10}\\,hotels + error$$\n",
    "\n",
    "The model contains hotel features, to capture customer preferences, and contextual information for the booking, e.g. number of adults or children. The model excludes the temporal variables `arrival`, `departure` and `search_date`, and the grouping variables `search_id` and `hotel_id`. \n",
    "\n",
    "The first group is left out from this analysis since it should be considered in a separate instance focused on seasonalities. The second group is left out since it would require panel data methodologies. This would complicate the interpretation since on one-hand we are interested in which hotel characteristics influence the booking decision but at the same time the methodology would net-out individual hotel differences. "
   ]
  },
  {
   "cell_type": "code",
   "execution_count": 6,
   "metadata": {},
   "outputs": [
    {
     "name": "stdout",
     "output_type": "stream",
     "text": [
      "Optimization terminated successfully.\n",
      "         Current function value: 0.039535\n",
      "         Iterations 13\n"
     ]
    },
    {
     "data": {
      "text/html": [
       "<table class=\"simpletable\">\n",
       "<caption>Logit Regression Results</caption>\n",
       "<tr>\n",
       "  <th>Dep. Variable:</th>      <td>booked</td>      <th>  No. Observations:  </th>  <td> 39564</td>  \n",
       "</tr>\n",
       "<tr>\n",
       "  <th>Model:</th>               <td>Logit</td>      <th>  Df Residuals:      </th>  <td> 39553</td>  \n",
       "</tr>\n",
       "<tr>\n",
       "  <th>Method:</th>               <td>MLE</td>       <th>  Df Model:          </th>  <td>    10</td>  \n",
       "</tr>\n",
       "<tr>\n",
       "  <th>Date:</th>          <td>Mon, 31 Jul 2017</td> <th>  Pseudo R-squ.:     </th>  <td>0.06898</td> \n",
       "</tr>\n",
       "<tr>\n",
       "  <th>Time:</th>              <td>14:00:53</td>     <th>  Log-Likelihood:    </th> <td> -1564.2</td> \n",
       "</tr>\n",
       "<tr>\n",
       "  <th>converged:</th>           <td>True</td>       <th>  LL-Null:           </th> <td> -1680.1</td> \n",
       "</tr>\n",
       "<tr>\n",
       "  <th> </th>                      <td> </td>        <th>  LLR p-value:       </th> <td>3.613e-44</td>\n",
       "</tr>\n",
       "</table>\n",
       "<table class=\"simpletable\">\n",
       "<tr>\n",
       "         <td></td>            <th>coef</th>     <th>std err</th>      <th>z</th>      <th>P>|z|</th>  <th>[0.025</th>    <th>0.975]</th>  \n",
       "</tr>\n",
       "<tr>\n",
       "  <th>const</th>           <td>   -2.1116</td> <td>    0.535</td> <td>   -3.944</td> <td> 0.000</td> <td>   -3.161</td> <td>   -1.062</td>\n",
       "</tr>\n",
       "<tr>\n",
       "  <th>hotel_feature_1</th> <td>    0.0061</td> <td>    0.002</td> <td>    3.688</td> <td> 0.000</td> <td>    0.003</td> <td>    0.009</td>\n",
       "</tr>\n",
       "<tr>\n",
       "  <th>hotel_feature_2</th> <td>   -0.0035</td> <td>    0.003</td> <td>   -1.385</td> <td> 0.166</td> <td>   -0.008</td> <td>    0.001</td>\n",
       "</tr>\n",
       "<tr>\n",
       "  <th>hotel_feature_3</th> <td>   -0.0012</td> <td>    0.001</td> <td>   -0.819</td> <td> 0.413</td> <td>   -0.004</td> <td>    0.002</td>\n",
       "</tr>\n",
       "<tr>\n",
       "  <th>hotel_feature_4</th> <td>    0.0247</td> <td>    0.011</td> <td>    2.257</td> <td> 0.024</td> <td>    0.003</td> <td>    0.046</td>\n",
       "</tr>\n",
       "<tr>\n",
       "  <th>hotel_feature_5</th> <td>    0.0439</td> <td>    0.036</td> <td>    1.231</td> <td> 0.218</td> <td>   -0.026</td> <td>    0.114</td>\n",
       "</tr>\n",
       "<tr>\n",
       "  <th>hotel_price</th>     <td>   -0.3666</td> <td>    0.053</td> <td>   -6.855</td> <td> 0.000</td> <td>   -0.471</td> <td>   -0.262</td>\n",
       "</tr>\n",
       "<tr>\n",
       "  <th>is_promo</th>        <td>    0.3530</td> <td>    0.136</td> <td>    2.592</td> <td> 0.010</td> <td>    0.086</td> <td>    0.620</td>\n",
       "</tr>\n",
       "<tr>\n",
       "  <th>num_adults</th>      <td>   -0.1164</td> <td>    0.074</td> <td>   -1.582</td> <td> 0.114</td> <td>   -0.261</td> <td>    0.028</td>\n",
       "</tr>\n",
       "<tr>\n",
       "  <th>num_children</th>    <td>    0.0576</td> <td>    0.065</td> <td>    0.892</td> <td> 0.372</td> <td>   -0.069</td> <td>    0.184</td>\n",
       "</tr>\n",
       "<tr>\n",
       "  <th>hotels</th>          <td>   -0.1790</td> <td>    0.024</td> <td>   -7.468</td> <td> 0.000</td> <td>   -0.226</td> <td>   -0.132</td>\n",
       "</tr>\n",
       "</table>"
      ],
      "text/plain": [
       "<class 'statsmodels.iolib.summary.Summary'>\n",
       "\"\"\"\n",
       "                           Logit Regression Results                           \n",
       "==============================================================================\n",
       "Dep. Variable:                 booked   No. Observations:                39564\n",
       "Model:                          Logit   Df Residuals:                    39553\n",
       "Method:                           MLE   Df Model:                           10\n",
       "Date:                Mon, 31 Jul 2017   Pseudo R-squ.:                 0.06898\n",
       "Time:                        14:00:53   Log-Likelihood:                -1564.2\n",
       "converged:                       True   LL-Null:                       -1680.1\n",
       "                                        LLR p-value:                 3.613e-44\n",
       "===================================================================================\n",
       "                      coef    std err          z      P>|z|      [0.025      0.975]\n",
       "-----------------------------------------------------------------------------------\n",
       "const              -2.1116      0.535     -3.944      0.000      -3.161      -1.062\n",
       "hotel_feature_1     0.0061      0.002      3.688      0.000       0.003       0.009\n",
       "hotel_feature_2    -0.0035      0.003     -1.385      0.166      -0.008       0.001\n",
       "hotel_feature_3    -0.0012      0.001     -0.819      0.413      -0.004       0.002\n",
       "hotel_feature_4     0.0247      0.011      2.257      0.024       0.003       0.046\n",
       "hotel_feature_5     0.0439      0.036      1.231      0.218      -0.026       0.114\n",
       "hotel_price        -0.3666      0.053     -6.855      0.000      -0.471      -0.262\n",
       "is_promo            0.3530      0.136      2.592      0.010       0.086       0.620\n",
       "num_adults         -0.1164      0.074     -1.582      0.114      -0.261       0.028\n",
       "num_children        0.0576      0.065      0.892      0.372      -0.069       0.184\n",
       "hotels             -0.1790      0.024     -7.468      0.000      -0.226      -0.132\n",
       "===================================================================================\n",
       "\"\"\""
      ]
     },
     "execution_count": 6,
     "metadata": {},
     "output_type": "execute_result"
    }
   ],
   "source": [
    "col_feat = ['hotel_feature_' + str(x) for x in range(1,6)]\n",
    "col = col_feat + ['hotel_price', 'is_promo','num_adults', 'num_children','hotels']\n",
    "logit = sm.Logit(data['booked'], sm.add_constant(data[col],prepend=True))\n",
    "result = logit.fit()\n",
    "result.summary()"
   ]
  },
  {
   "cell_type": "markdown",
   "metadata": {},
   "source": [
    "### The interpretation\n",
    "\n",
    "First, the in-sample results indicate that a booking is **more likely** if price is lower and is a promotional offer, which is economically sound. Then, it appears that the **less adults** are potentially involved in the decision the higher is the probability of the booking. However, **more of kids** plays in the opposite direction, i.e. the higher their number the higher is the probability of a booking. An explanation might come from the fact that it is better to book sooner with too many kids to accommodate and kids usually have less or no impact in the decision. Also, as opposed to my initial hypothesis, the number of unique searched hotels might indicate **indecision** rather than commitment, since it has a negative impact.\n",
    "\n",
    "In terms of hotel features, the coefficients seem to contradict the interpretation of those characteristics advanced earlier. For instance, `hotel_feature_2` which I guessed to be **customer rating** has a negative impact, while experience would suggest otherwise. However, the coefficient is insignificant and its effect might already be captured by `hotel_feature_1`, whose sign is positive. The same reasoning applies to `hotel_feature_3` (guessed to be customer reviews), unexpected sign but insignificant and potentially already captured by the first feature.\n",
    "\n",
    "While contextual information of the search seem to have a reasonable explanation, there is work to be done on the hotel features and the selection of the optimal combination. For instance, a visual approach through a radar-like scatter favors features 1, 5 and 2, since they have superior pull when the offer is booked (labeled with 1 in the graph). "
   ]
  },
  {
   "cell_type": "code",
   "execution_count": null,
   "metadata": {},
   "outputs": [
    {
     "data": {
      "image/png": "[encoded data removed]",
      "text/plain": [
       "<matplotlib.figure.Figure at 0x11ca5d8d0>"
      ]
     },
     "metadata": {},
     "output_type": "display_data"
    }
   ],
   "source": [
    "pd.plotting.radviz(data[col_feat + ['booked']], 'booked');"
   ]
  },
  {
   "cell_type": "markdown",
   "metadata": {},
   "source": [
    "On the other hand, the logit model suggests that `hotel_feature_2` is redundant. A closer look to how these hotel characteristics correlate among each other is warranted and proposed in the following scatter matrix."
   ]
  },
  {
   "cell_type": "code",
   "execution_count": null,
   "metadata": {},
   "outputs": [],
   "source": [
    "pd.plotting.scatter_matrix(data[col_feat],figsize=(10,10));"
   ]
  },
  {
   "cell_type": "markdown",
   "metadata": {},
   "source": [
    "The intersection between `hotel_feature_1` and `hotel_feature_2`, row 2 vs column 1, shows no signs of correlation. The overall impression is that those features are orthogonal by construction and categorical in nature. Hence, classification methods like decision trees or at least a decomposition of variables into categorical dummies should be more appropriate than a the simple kitchen-sink regression proposed above. This recommendation does not come as a surprise and was in fact anticipated by the visualization of the empirical histograms.  "
   ]
  },
  {
   "cell_type": "markdown",
   "metadata": {},
   "source": [
    "### Hotel pricing stereotypes\n",
    "This section just confirms the basic stereotypes about hotel pricing, that is:\n",
    " - price depends on the length of the stay, but the cost per day diminishes as the length increases\n",
    " - booking in advance saves you money\n",
    " - these considerations are valid independent of the number of adults, children, if it is a promotion and of the hotel characteristics.\n",
    "\n",
    "First, I derive the length of the stay from `departure` and `arrival` and add a quadratic term to capture the decreasing rate of the pricing. The number of days ahead the booking is made is derived from `arrival` and `search_date`. Finally, I dummyfy the `num_children` and `num_adults` to net out the effect of the number of people in a booking from the first two variables and to capture eventual promotional effect tied the number of people. "
   ]
  },
  {
   "cell_type": "code",
   "execution_count": null,
   "metadata": {},
   "outputs": [],
   "source": [
    "data['stay_len'] = data['departure'] - data['arrival']\n",
    "data['stay_len2'] = data['stay_len']**2\n",
    "data['days_ahead'] = data['arrival']-data['search_date']\n",
    "data = pd.get_dummies(data,columns=['num_adults','num_children']);\n"
   ]
  },
  {
   "cell_type": "markdown",
   "metadata": {},
   "source": [
    "I use a simple OLS model (no intercept to avoid perfect multicollinearity from the intercept dummies):\n",
    " \n",
    "$$ price = \\beta_1\\,ispromo + \\beta_2\\,len + \\beta_3\\,len^2 + \\beta_4\\,daysahead + \\sum^9_{i=5} \\beta_i\\,feature\\_i + \\sum^{16}_{i=10} \\beta_i\\,kids\\_i + \\sum^{23}_{i=17} \\beta_i\\,adult\\_i + error$$"
   ]
  },
  {
   "cell_type": "code",
   "execution_count": null,
   "metadata": {},
   "outputs": [],
   "source": [
    "col = (['is_promo','stay_len','stay_len2','days_ahead'] + col_feat + \n",
    "['num_children_' + str(i) for i in range(7)] + ['num_adults_' + str(i) for i in range(1,9)])\n",
    "model = sm.OLS(data['hotel_price'], data[col])\n",
    "result = model.fit()\n",
    "result.summary()"
   ]
  },
  {
   "cell_type": "markdown",
   "metadata": {},
   "source": [
    "### Interpretation\n",
    "As suggested, the stereotypes are mostly confirmed:\n",
    " - the length of the stay is increasing at a decreasing rate, that is after some time, the cost per day diminishes. \n",
    " - booking in advance supposedly saves you money, but the coefficient is insignificant and hence the effect might be weak or diluted by other variables. \n",
    "\n",
    "On this last point, the scatter of `days_ahead` versus `hotel_price` does show the expected decrease, if not normalized with the `log()` transformation:"
   ]
  },
  {
   "cell_type": "code",
   "execution_count": null,
   "metadata": {},
   "outputs": [],
   "source": [
    "fig, ax = plt.subplots(nrows=1,ncols=2, figsize=(12,4));\n",
    "data.plot.scatter('days_ahead','hotel_price',ax=ax[0]);\n",
    "ax[0].set_title('log(price)');\n",
    "\n",
    "ax[1].scatter(data.days_ahead,data.hotel_price.transform(np.exp));\n",
    "ax[1].set_title('price');\n",
    "ax[1].set_xlabel('days_ahead');"
   ]
  },
  {
   "cell_type": "markdown",
   "metadata": {},
   "source": [
    "Additionally, as kids increase the cost increases at a decreasing rate, with a drop on 5 kids. This might suggest that big families actually look for cheaper accommodation or whole houses to rent, but additional investigation is needed. The number of adults has a strong surplus on a single person as opposed to a couple. While it is common practice to add a surcharge on a single person booking, the reason the couple actually pays less in total might be linked to promotions being offered for 2 or more adults only. \n",
    "\n",
    "Finally, the `num_adults_8` has more than proportionally high coefficient suggesting that data for a higher number of people might have been truncated at 8."
   ]
  },
  {
   "cell_type": "markdown",
   "metadata": {},
   "source": [
    "# Concluding remarks\n",
    "Much is left to be done to answer the key issue outlined earlier, i.e. how to maximize the conversion rate. A better understanding of what determines a booking is needed, with appropriate model selection and validation (e.g. out-of sample or cross-validation), to find which variables work the best in a predictive setting. The sample could also be limited to include successful search ids only, and compare the features of the selected hotel against those with the same search id that were not picked. \n",
    "\n",
    "To suggest actions in order to improve the booking conversion, we also need to include a pricing recommendation, which cannot come disentangled from a through understanding of hotel pricing. As the initial analysis suggested, there are some non-monotonic irregularities that might be picking specific client segments usually overlooked (e.g. families with five kids). Choosing the appropriate price offering for those segments might prove to be the missing link."
   ]
  }
 ],
 "metadata": {
  "kernelspec": {
   "display_name": "Python 3",
   "language": "python",
   "name": "python3"
  },
  "language_info": {
   "codemirror_mode": {
    "name": "ipython",
    "version": 3
   },
   "file_extension": ".py",
   "mimetype": "text/x-python",
   "name": "python",
   "nbconvert_exporter": "python",
   "pygments_lexer": "ipython3",
   "version": "3.6.2"
  }
 },
 "nbformat": 4,
 "nbformat_minor": 2
}
